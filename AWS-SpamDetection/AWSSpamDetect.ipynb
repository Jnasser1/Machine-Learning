{
 "cells": [
  {
   "cell_type": "markdown",
   "id": "d9eed489-12d8-4ec1-8bcb-2e605aae1809",
   "metadata": {},
   "source": [
    "# Background"
   ]
  },
  {
   "cell_type": "markdown",
   "id": "20fd7934-7024-46df-b92c-e8e50b7cb5f1",
   "metadata": {},
   "source": [
    "A virtual environment is a directory tree that contains Python executable files and other files which indicate that it is a virtual environment. [Source: python.org]."
   ]
  },
  {
   "cell_type": "markdown",
   "id": "67f4f3c8-9774-488a-a84d-f8237c07ad26",
   "metadata": {},
   "source": [
    "**Flask** is a micro web framework written in Python. Its minimal structure provides an ecosystem of external components such as form validation, upload handling, authentications, etc. Used by companies such as Pinterest and Linkedin [Source: Wiki]."
   ]
  },
  {
   "cell_type": "markdown",
   "id": "805044cc-9df2-415b-bf35-35f3b211b7ac",
   "metadata": {},
   "source": [
    "An **API** is an application programming interface -  a computing interface that defines interactions between multiple software intermediaries. It defines the calls and requests that we can make, how to make them, data formats, conventions, etc. [Source: Wiki]."
   ]
  },
  {
   "cell_type": "markdown",
   "id": "1726f1e1-82a2-415f-b860-f87f3e61c53d",
   "metadata": {},
   "source": [
    "**AWS** is Amazon Web Service - a subsidary that provides on-demand cloud computing platforms and APIs on a pay-as-you-go basis."
   ]
  },
  {
   "cell_type": "markdown",
   "id": "b4cba69a-8b8b-4509-a013-193ac762aab1",
   "metadata": {},
   "source": [
    "Amazon Elastic Compute Cloud (**Amazon EC2**) provides secure, resizable computing capacity in the cloud; Cloud servers."
   ]
  },
  {
   "cell_type": "markdown",
   "id": "7699a2a5-694d-47db-abdb-c2af1e942512",
   "metadata": {},
   "source": [
    "**AWS Elastic Beanstalk** is how we will deploy our web application. The service provides ways to deploy and scale web applications into AWS cloud servers. \n",
    "\n",
    "  Elastic Beanstalk handles deployment, capacity provisioning, load-balancing, and auto scaling, as well as application health monitoring. The following diagram displays typical architecture for a web server environment."
   ]
  },
  {
   "cell_type": "markdown",
   "id": "335b27be-f7e1-4885-aa95-e879cb7e39cb",
   "metadata": {},
   "source": [
    "![](images/beanstalkArch.png)"
   ]
  },
  {
   "cell_type": "markdown",
   "id": "9a4a2a95-9267-4ce2-97dd-8d3bbb619886",
   "metadata": {},
   "source": [
    "*source:* https://docs.aws.amazon.com/elasticbeanstalk/latest/dg/concepts-webserver.html"
   ]
  },
  {
   "cell_type": "markdown",
   "id": "7b7e842b-0ce4-4277-9537-2f3a20b32195",
   "metadata": {},
   "source": [
    "**Postman** is a platform for collaborative API development. "
   ]
  },
  {
   "cell_type": "markdown",
   "id": "3db121cc-6996-4414-8b2c-564791ac1f8f",
   "metadata": {},
   "source": [
    "The **pickle** modlue provdies us ways to serialize python objects, converted into a stream of bytes and unpickled (deserialized). Compare to Java serialization."
   ]
  },
  {
   "cell_type": "markdown",
   "id": "8c3bad80-1696-4468-afe2-20c5b8815ad7",
   "metadata": {},
   "source": [
    "# Objectives:"
   ]
  },
  {
   "cell_type": "markdown",
   "id": "f248e2c5-bced-470d-915b-832f84152e72",
   "metadata": {
    "tags": []
   },
   "source": [
    "\n",
    "#### 1. Build a machine learning-based spam detector API "
   ]
  },
  {
   "cell_type": "markdown",
   "id": "f88fdb5e-5a6f-4f4d-8622-9011a3e9e44f",
   "metadata": {},
   "source": [
    "#### 2. Deploy the machine learning application into AWS virtual servers"
   ]
  },
  {
   "cell_type": "markdown",
   "id": "5fa44e0d-cc0c-4f24-bcff-395547c2b19a",
   "metadata": {
    "tags": []
   },
   "source": [
    "#### We will detect spam messages using simple machine learning, and launch it as a serverless API using AWS Elastic Beanstalk technology."
   ]
  },
  {
   "cell_type": "markdown",
   "id": "45d39b6b-df5b-47f4-a34a-e6452171f5fa",
   "metadata": {},
   "source": [
    "# Project"
   ]
  },
  {
   "cell_type": "markdown",
   "id": "71342163-475e-4c90-a6de-054b7848fca1",
   "metadata": {
    "tags": []
   },
   "source": [
    "## 1.Creating the Flask application"
   ]
  },
  {
   "cell_type": "markdown",
   "id": "f5b3767b-3123-4e59-bbac-bc7df4d6c038",
   "metadata": {},
   "source": [
    "We create a folder directory MyFlask. Working in visual studio code we need to set the python interpreter to our anaconda directory.  \n"
   ]
  },
  {
   "cell_type": "markdown",
   "id": "5c48a086-2a21-4cbb-bda3-d23ea035c2d8",
   "metadata": {},
   "source": [
    "Within VS code Terminal Configure Settings:  \n",
    "> Set Terminal > Integrated > Automation Profile: Windows to Command Line.  \n",
    "\n",
    "Then within the settings.json file we need to edit the python.path:  \n",
    "\n",
    ">  \"python.condaPath\": \"C:\\\\Users\\\\jihad\\\\anaconda3\\\\Scripts\\\\conda.exe\"\n",
    "\n",
    "Now we can create a virtual enviorment called \"flask\" within VS Code, new terminal:\n",
    "> python -m venv flask"
   ]
  },
  {
   "cell_type": "markdown",
   "id": "9d4d909b-7bbf-46a1-a5be-1416c7ad6bf0",
   "metadata": {},
   "source": [
    "Activating the virtual enviorment in VS Code:\n"
   ]
  },
  {
   "cell_type": "markdown",
   "id": "1bd1a57b-d896-4773-97f9-644ca48a9438",
   "metadata": {
    "tags": []
   },
   "source": [
    "Right click activate within Scripts folder and select 'copy relative location' then paste into the terminal:\n",
    "> flask\\Scripts\\activate"
   ]
  },
  {
   "cell_type": "markdown",
   "id": "e6770934-3fc9-47ec-a2e2-741c5c3e4726",
   "metadata": {},
   "source": [
    "Now we are working within the virtual enviorment\n"
   ]
  },
  {
   "cell_type": "markdown",
   "id": "b0faf7d4-ce32-4562-b2e1-260f8cd32503",
   "metadata": {},
   "source": [
    "Within this enviorment we install the modules we need, running \n",
    ">pip install flask"
   ]
  },
  {
   "cell_type": "markdown",
   "id": "a99bd169-8998-4e9b-bdce-ae67831cc189",
   "metadata": {},
   "source": [
    "Finally we can run  \n",
    "> python Application.py\n",
    "\n",
    "To see the output of the flask web application."
   ]
  },
  {
   "cell_type": "markdown",
   "id": "6b20dd30-6578-41cf-ae85-734808ca0c43",
   "metadata": {
    "tags": []
   },
   "source": [
    "## 2.Creating the RESTful API - GET/POST Method"
   ]
  },
  {
   "cell_type": "markdown",
   "id": "19c9d154-9713-454a-b824-9b9229502bcf",
   "metadata": {},
   "source": [
    "In this section we turn the flask web application into a RESTful API that will handle GET/POST methods"
   ]
  },
  {
   "cell_type": "markdown",
   "id": "56244dd3-4d1a-4bd4-8c2b-49ee720191b8",
   "metadata": {
    "tags": []
   },
   "source": [
    "We define GET and POST methods for our API:\n",
    "\n",
    "> @app.route('/spamdetect', methods = ['GET', 'POST'])  \n",
    ">   def spamdetect():  \n",
    ">  message = request.args.get(\"message\")  \n",
    ">  return message                         \n",
    "\n"
   ]
  },
  {
   "cell_type": "markdown",
   "id": "58e0cf72-7aa4-46d4-827d-d726d32fc648",
   "metadata": {},
   "source": [
    "Lauching **Postman** from Desktop, within our workspace we create a new request. We will test GET first. From VS code we launch our application again to find the URL\n",
    "> http://127.0.0.1:5000/\n",
    "\n",
    "Create a message key and add a value to be retrieved. In this case our name works. By selecting POST we can validate that the RESTful API is working properly"
   ]
  },
  {
   "cell_type": "markdown",
   "id": "4bad35c8-57de-4c9e-9b15-cfcfea791b5b",
   "metadata": {},
   "source": [
    "![alt text](images/post.png \"Creating the post GET request\")\n"
   ]
  },
  {
   "cell_type": "markdown",
   "id": "07e9d4e6-449f-45f4-91e9-bc88e02a1434",
   "metadata": {},
   "source": [
    "## 3.Building the spam detector ML model"
   ]
  },
  {
   "cell_type": "markdown",
   "id": "43bae7ad-c3ba-413c-89da-2a29d1cb5319",
   "metadata": {},
   "source": [
    "##### Stemming Aside"
   ]
  },
  {
   "cell_type": "markdown",
   "id": "99e361fc-853e-4b39-b7f4-0de35895709c",
   "metadata": {},
   "source": [
    "Stemming is a tye of text normalization that enables standarization of words into root words. It *reduces redundancy in data*, *and *variations in the same word*. \n",
    " \n",
    "   \n",
    "  Stemming programs are called stemming algorithms or stemmers. An example of a stemming algorithm is a PorterStemmer. A simple example is below:"
   ]
  },
  {
   "cell_type": "code",
   "execution_count": 1,
   "id": "97aa0571-add7-4199-8569-9bd8549c1902",
   "metadata": {},
   "outputs": [
    {
     "name": "stdout",
     "output_type": "stream",
     "text": [
      "run\n",
      "run\n"
     ]
    }
   ],
   "source": [
    "from nltk.stem import PorterStemmer\n",
    "words = [\"running\", \"runs\"]\n",
    "stemmer = PorterStemmer()\n",
    "for word in words:\n",
    "    root_word = stemmer.stem(word)\n",
    "    print(root_word)"
   ]
  },
  {
   "cell_type": "markdown",
   "id": "0a8fae5b-cedd-4328-bc1c-da37bad9d5df",
   "metadata": {},
   "source": [
    "#### Libraries needed: *Pandas, nltk, joblib, sklearn*."
   ]
  },
  {
   "cell_type": "code",
   "execution_count": 2,
   "id": "b3ecaaa1-db6f-47f7-bd62-b01a49dec948",
   "metadata": {},
   "outputs": [
    {
     "name": "stderr",
     "output_type": "stream",
     "text": [
      "[nltk_data] Downloading package stopwords to\n",
      "[nltk_data]     C:\\Users\\jihad\\AppData\\Roaming\\nltk_data...\n",
      "[nltk_data]   Package stopwords is already up-to-date!\n"
     ]
    }
   ],
   "source": [
    "import pandas as pd\n",
    "import nltk\n",
    "nltk.download('stopwords') # Filtering out useless words (data)\n",
    "from nltk.tokenize import RegexpTokenizer\n",
    "from nltk.corpus import stopwords\n",
    "from nltk.stem.porter import PorterStemmer"
   ]
  },
  {
   "cell_type": "markdown",
   "id": "3856583d-7939-468c-8ffc-40432f5ab6f7",
   "metadata": {},
   "source": [
    "##### Messages are categorized as spam or ham. \n",
    "#####  Ham refers to email which is generally considered to not be spam."
   ]
  },
  {
   "cell_type": "code",
   "execution_count": 3,
   "id": "3b3609f5-68ea-4484-92de-88ee2746b7a4",
   "metadata": {},
   "outputs": [
    {
     "data": {
      "text/html": [
       "<div>\n",
       "<style scoped>\n",
       "    .dataframe tbody tr th:only-of-type {\n",
       "        vertical-align: middle;\n",
       "    }\n",
       "\n",
       "    .dataframe tbody tr th {\n",
       "        vertical-align: top;\n",
       "    }\n",
       "\n",
       "    .dataframe thead th {\n",
       "        text-align: right;\n",
       "    }\n",
       "</style>\n",
       "<table border=\"1\" class=\"dataframe\">\n",
       "  <thead>\n",
       "    <tr style=\"text-align: right;\">\n",
       "      <th></th>\n",
       "      <th>sms</th>\n",
       "      <th>category</th>\n",
       "    </tr>\n",
       "  </thead>\n",
       "  <tbody>\n",
       "    <tr>\n",
       "      <th>0</th>\n",
       "      <td>Go until jurong point, crazy.. Available only ...</td>\n",
       "      <td>ham</td>\n",
       "    </tr>\n",
       "    <tr>\n",
       "      <th>1</th>\n",
       "      <td>Ok lar... Joking wif u oni...</td>\n",
       "      <td>ham</td>\n",
       "    </tr>\n",
       "    <tr>\n",
       "      <th>2</th>\n",
       "      <td>Free entry in 2 a wkly comp to win FA Cup fina...</td>\n",
       "      <td>spam</td>\n",
       "    </tr>\n",
       "    <tr>\n",
       "      <th>3</th>\n",
       "      <td>U dun say so early hor... U c already then say...</td>\n",
       "      <td>ham</td>\n",
       "    </tr>\n",
       "    <tr>\n",
       "      <th>4</th>\n",
       "      <td>Nah I don't think he goes to usf, he lives aro...</td>\n",
       "      <td>ham</td>\n",
       "    </tr>\n",
       "  </tbody>\n",
       "</table>\n",
       "</div>"
      ],
      "text/plain": [
       "                                                 sms category\n",
       "0  Go until jurong point, crazy.. Available only ...      ham\n",
       "1                      Ok lar... Joking wif u oni...      ham\n",
       "2  Free entry in 2 a wkly comp to win FA Cup fina...     spam\n",
       "3  U dun say so early hor... U c already then say...      ham\n",
       "4  Nah I don't think he goes to usf, he lives aro...      ham"
      ]
     },
     "execution_count": 3,
     "metadata": {},
     "output_type": "execute_result"
    }
   ],
   "source": [
    "# Loading in data; UCI ML spam or ham dataset. Downloaded files in /csv_files, from\n",
    "# https://www.kaggle.com/datasets/uciml/sms-spam-collection-dataset\n",
    "\n",
    "\n",
    "df_train = pd.read_csv('csv_files/spam_train.csv', encoding = 'ISO-8859-1')\n",
    "df_train.head()"
   ]
  },
  {
   "cell_type": "code",
   "execution_count": 4,
   "id": "f5fc41cf-4ae4-43ec-a686-5dbc73006d59",
   "metadata": {},
   "outputs": [
    {
     "data": {
      "text/html": [
       "<div>\n",
       "<style scoped>\n",
       "    .dataframe tbody tr th:only-of-type {\n",
       "        vertical-align: middle;\n",
       "    }\n",
       "\n",
       "    .dataframe tbody tr th {\n",
       "        vertical-align: top;\n",
       "    }\n",
       "\n",
       "    .dataframe thead th {\n",
       "        text-align: right;\n",
       "    }\n",
       "</style>\n",
       "<table border=\"1\" class=\"dataframe\">\n",
       "  <thead>\n",
       "    <tr style=\"text-align: right;\">\n",
       "      <th></th>\n",
       "      <th>sms</th>\n",
       "      <th>category</th>\n",
       "    </tr>\n",
       "  </thead>\n",
       "  <tbody>\n",
       "    <tr>\n",
       "      <th>0</th>\n",
       "      <td>Well its not like you actually called someone ...</td>\n",
       "      <td>ham</td>\n",
       "    </tr>\n",
       "    <tr>\n",
       "      <th>1</th>\n",
       "      <td>Nope. Since ayo travelled, he has forgotten hi...</td>\n",
       "      <td>ham</td>\n",
       "    </tr>\n",
       "    <tr>\n",
       "      <th>2</th>\n",
       "      <td>You still around? Looking to pick up later</td>\n",
       "      <td>ham</td>\n",
       "    </tr>\n",
       "    <tr>\n",
       "      <th>3</th>\n",
       "      <td>CDs 4u: Congratulations ur awarded å£500 of CD...</td>\n",
       "      <td>spam</td>\n",
       "    </tr>\n",
       "    <tr>\n",
       "      <th>4</th>\n",
       "      <td>There's someone here that has a year  &amp;lt;#&amp;gt...</td>\n",
       "      <td>ham</td>\n",
       "    </tr>\n",
       "  </tbody>\n",
       "</table>\n",
       "</div>"
      ],
      "text/plain": [
       "                                                 sms category\n",
       "0  Well its not like you actually called someone ...      ham\n",
       "1  Nope. Since ayo travelled, he has forgotten hi...      ham\n",
       "2         You still around? Looking to pick up later      ham\n",
       "3  CDs 4u: Congratulations ur awarded å£500 of CD...     spam\n",
       "4  There's someone here that has a year  &lt;#&gt...      ham"
      ]
     },
     "execution_count": 4,
     "metadata": {},
     "output_type": "execute_result"
    }
   ],
   "source": [
    "df_test = pd.read_csv('csv_files/spam_test.csv', encoding = 'ISO-8859-1')\n",
    "df_test.head()"
   ]
  },
  {
   "cell_type": "markdown",
   "id": "b59173f6-54d1-4348-9f61-792fdac4fd38",
   "metadata": {},
   "source": [
    "#### Creating a function cleanSms() to clean data"
   ]
  },
  {
   "cell_type": "code",
   "execution_count": 5,
   "id": "f4e4d8a1-6a88-4979-aa19-a2f1b7625a67",
   "metadata": {},
   "outputs": [],
   "source": [
    "# General function to clean data.\n",
    "# tokenizing to extract character by character\n",
    "\n",
    "tokenizer = RegexpTokenizer('r/w+')\n",
    "stopwords_english=set(stopwords.words('english'))\n",
    "\n",
    "\n",
    "\n",
    "# Tokenizing and stemming, get rid of redundant data (stop words)\n",
    "\n",
    "def cleanSms(sms):\n",
    "    sms = sms.replace(\"<br /><br />\" , \" \")   # replace breaks with space\n",
    "    sms = sms.lower()\n",
    "    sms_tokens = tokenizer.tokenize(sms)  # array of strings for each word in lower case\n",
    "    \n",
    "    # Removing stop words\n",
    "    sms_tokens_without_stopwords = [token for token in sms_tokens if token not in stopwords_english]\n",
    "    \n",
    "    # Stemming\n",
    "    stemmed_sms_tokens_without_stopwords = [PorterStemmer().stem(token) for token in sms_tokens_without_stopwords]\n",
    "    \n",
    "    cleaned_sms=' '.join(stemmed_sms_tokens_without_stopwords)\n",
    "    return cleaned_sms"
   ]
  },
  {
   "cell_type": "markdown",
   "id": "e555f159-4b5b-488b-9205-c72e3c34bd67",
   "metadata": {
    "tags": []
   },
   "source": [
    "#### Cleaning data each train, test dataset\n"
   ]
  },
  {
   "cell_type": "code",
   "execution_count": 6,
   "id": "546e3a8e-f235-4260-98dc-1a9a6763c0e5",
   "metadata": {},
   "outputs": [],
   "source": [
    "df_train['sms'].apply(cleanSms)\n",
    "x_train = df_train['sms'].values\n",
    "y_train = df_train['category'].values\n"
   ]
  },
  {
   "cell_type": "code",
   "execution_count": 7,
   "id": "7e6c8502-a4ea-4fd0-b145-7d5c97733c4d",
   "metadata": {},
   "outputs": [],
   "source": [
    "df_test['sms'].apply(cleanSms)\n",
    "x_test = df_test['sms'].values\n",
    "y_test=df_test['category'].values"
   ]
  },
  {
   "cell_type": "markdown",
   "id": "eb6e534c-5606-417f-b992-e6becdaaa69c",
   "metadata": {},
   "source": [
    "#### Vectorizing data"
   ]
  },
  {
   "cell_type": "code",
   "execution_count": 8,
   "id": "b3913b10-2524-4a6f-8942-6c6aaf6b87ea",
   "metadata": {},
   "outputs": [],
   "source": [
    "from sklearn.feature_extraction.text import TfidfVectorizer\n",
    "vectorizer = TfidfVectorizer(sublinear_tf=True, encoding='ISO-8859-1')\n",
    "vectorizer.fit(x_train)\n",
    "x_train=vectorizer.transform(x_train)\n",
    "x_test=vectorizer.transform(x_test)"
   ]
  },
  {
   "cell_type": "markdown",
   "id": "468ce77f-eb7f-4f11-b1c4-1bc44b1d7e83",
   "metadata": {},
   "source": [
    "#### Building the Model"
   ]
  },
  {
   "cell_type": "markdown",
   "id": "af6d5993-1378-4967-931f-e408b066d545",
   "metadata": {
    "tags": []
   },
   "source": [
    "We are predicting categories. Given an email, is it spam, or it is not (ham)?\n",
    "\n",
    "  This is a binary dependent variable classification for which logistic regression is well-suited."
   ]
  },
  {
   "cell_type": "code",
   "execution_count": 9,
   "id": "d286ae93-aef4-4b7d-a34b-89adc2a45545",
   "metadata": {},
   "outputs": [
    {
     "data": {
      "text/plain": [
       "LogisticRegression()"
      ]
     },
     "execution_count": 9,
     "metadata": {},
     "output_type": "execute_result"
    }
   ],
   "source": [
    "from sklearn.linear_model import LogisticRegression\n",
    "model = LogisticRegression(solver = 'lbfgs')\n",
    "model.fit(x_train,y_train)\n"
   ]
  },
  {
   "cell_type": "markdown",
   "id": "d2a5e36e-c879-4f12-8193-f54625b23bfa",
   "metadata": {},
   "source": [
    "#### Predicting with the logistic regerssion model"
   ]
  },
  {
   "cell_type": "code",
   "execution_count": 10,
   "id": "47be16d0-d6e3-4188-8308-817bc4581d99",
   "metadata": {},
   "outputs": [
    {
     "data": {
      "text/plain": [
       "array(['spam'], dtype=object)"
      ]
     },
     "execution_count": 10,
     "metadata": {},
     "output_type": "execute_result"
    }
   ],
   "source": [
    "# Predicting spam\n",
    "# Messages with phone numbers much more likely to be classified as spam\n",
    "model.predict(vectorizer.transform([\"you won $900 in the new lottery drawing. Call 1234675543\"]))"
   ]
  },
  {
   "cell_type": "code",
   "execution_count": 11,
   "id": "5b221a9b-0794-4a76-a044-ea717ed02b03",
   "metadata": {},
   "outputs": [
    {
     "data": {
      "text/plain": [
       "array(['ham'], dtype=object)"
      ]
     },
     "execution_count": 11,
     "metadata": {},
     "output_type": "execute_result"
    }
   ],
   "source": [
    "# Predicting Ham\n",
    "model.predict(vectorizer.transform([\"See that attached resume, thanks!\"]))"
   ]
  },
  {
   "cell_type": "markdown",
   "id": "af3e0305-cdb8-48bd-970b-a8d8884f51a9",
   "metadata": {},
   "source": [
    "## 4.Converting the Model to a Spam Detector API"
   ]
  },
  {
   "cell_type": "markdown",
   "id": "0d0ad636-651d-4f6b-9475-2cadb92f1362",
   "metadata": {},
   "source": [
    "Pickling can be thought of as zipping the model and unzipping it when we need it. It is converting python objects into byte streams, depickling is the opposite. The extension for a pickled object is pkl.\n",
    "\n",
    "  We need to pickle the model and pickle the vectorizer. The library joblib can do this."
   ]
  },
  {
   "cell_type": "markdown",
   "id": "a44cd469-2316-4a5f-8394-653d0d57f99a",
   "metadata": {},
   "source": [
    "### Pickling "
   ]
  },
  {
   "cell_type": "code",
   "execution_count": 12,
   "id": "85dfcd4a-c471-4d21-8df7-c2e54ed68d36",
   "metadata": {},
   "outputs": [],
   "source": [
    "import joblib"
   ]
  },
  {
   "cell_type": "code",
   "execution_count": 13,
   "id": "104b8a72-2a43-4289-b70b-d33ce0639a5c",
   "metadata": {},
   "outputs": [
    {
     "data": {
      "text/plain": [
       "['vectorizer.pkl']"
      ]
     },
     "execution_count": 13,
     "metadata": {},
     "output_type": "execute_result"
    }
   ],
   "source": [
    "joblib.dump(model, 'spam_detect_model.pkl')\n",
    "joblib.dump(vectorizer, 'vectorizer.pkl')"
   ]
  },
  {
   "cell_type": "markdown",
   "id": "4eb6b0bf-b565-4d7a-a0d9-2639f7dad861",
   "metadata": {},
   "source": [
    "These new files (vectorizer.pkl,spam_detect_model.pkl) must be copied into our Flask application folder.\n",
    "\n",
    "  Once the files are present in our workspace we import joblib libraries and  download sklearn into virtual enviorment\n",
    ">pip install sklearn"
   ]
  },
  {
   "cell_type": "markdown",
   "id": "d11d4401-9151-4409-9e9e-031ceaa9337e",
   "metadata": {},
   "source": [
    "We then load the vectorizer and model into our VS code Flask applcation workspace by adding new code before the flask instantiation.\n",
    "\n",
    "> vectorizer = joblib.load(\"vectorizer.pkl\")  \n",
    "\n",
    ">  spam_detect_model = joblib.load(\"spam_detect_model.pkl\")\n",
    "\n"
   ]
  },
  {
   "cell_type": "markdown",
   "id": "8ec764b7-f677-458b-a52c-9fe05bbd10f2",
   "metadata": {},
   "source": [
    "Now we modify the body of what the API will do:\n",
    " \n",
    "  Once it recieves the message, we use the vectorizer to transform the message. Finally, we pass this transform version through the model, which returns an array with the predicition in index 0. The following is the body of @app.route('/spamdetect', methods =['GET, 'POST'])"
   ]
  },
  {
   "cell_type": "markdown",
   "id": "be4b10bf-5159-423e-9fe2-7fb90027a710",
   "metadata": {},
   "source": [
    ">  message = request.args.get(\"message\") \n",
    "\n",
    ">vectorized_message = vectorizer.transform([message])  \n",
    "\n",
    "> result = spam_detect_model.predict(vectorized_message)[0]  \n",
    "\n",
    "> return result"
   ]
  },
  {
   "cell_type": "markdown",
   "id": "e4d87bb2-cca2-409a-af63-0fe2a2647976",
   "metadata": {},
   "source": [
    "### Testing the API"
   ]
  },
  {
   "cell_type": "markdown",
   "id": "c79ab65a-a555-45f1-a48c-813f38986072",
   "metadata": {},
   "source": [
    "Within Postman, we can send a message, and see how the model will classify it. For the message \"Hello, how are you?\" the model sends back that it is a non-spam message."
   ]
  },
  {
   "cell_type": "markdown",
   "id": "412753df-3e8a-430c-a835-2231ee6b84d6",
   "metadata": {},
   "source": [
    "![alt text](images/postHam.png)"
   ]
  },
  {
   "cell_type": "markdown",
   "id": "9f92530d-510e-4532-9794-974ebc67c836",
   "metadata": {},
   "source": [
    "For the message \"You've won $90,000 in lottery please call  +123456789\", the spam detector API classifys as spam."
   ]
  },
  {
   "cell_type": "markdown",
   "id": "4c91d97d-ed5d-417f-986f-8121eb3852ad",
   "metadata": {},
   "source": [
    "![alt text](images/postSpam.png)"
   ]
  },
  {
   "cell_type": "markdown",
   "id": "b6af9d13-9126-444f-9df1-d2f57c955de4",
   "metadata": {},
   "source": [
    "##  5.Launching an AWS EC2 Virtual Server instance using AWS Elastic Beanstalk"
   ]
  },
  {
   "cell_type": "markdown",
   "id": "a6aa5a19-faa0-4ea5-80db-b3fc69dbfa87",
   "metadata": {},
   "source": [
    "Within the AWS Management Interface we can make a web application using AWS Elastic Beanstalk with default configurations.\n",
    "\n",
    "  We specify the application name as spamdetectAPI. Once the set up is complete (5-6 minutes) we can see the wep app up and running on Amazon servers.\n",
    " \n",
    "  The web application url is http://spamdetectapi-env.eba-2pb2wgfz.us-east-2.elasticbeanstalk.com/\n",
    "\n",
    "  With the web application up and running we go to th E2 Services to validate that the instance is running.\n"
   ]
  },
  {
   "cell_type": "markdown",
   "id": "d04ae388-fe01-46d5-a628-ae28c3c7dc39",
   "metadata": {},
   "source": [
    "![alt text](images/webapprunning.png)"
   ]
  },
  {
   "cell_type": "markdown",
   "id": "f348612f-f4c4-478e-9e30-ab9c3f31799c",
   "metadata": {
    "tags": []
   },
   "source": [
    "## 6.Depoloying and testing the AWS web application API\n",
    " "
   ]
  },
  {
   "cell_type": "markdown",
   "id": "88fd4ac7-25b9-42ad-80b4-66f43ec5484a",
   "metadata": {},
   "source": [
    "##### We will deploy our spam detector API flask application into AWS EC2 instance."
   ]
  },
  {
   "cell_type": "markdown",
   "id": "9eaebec2-6e52-44c3-a1af-870e9dd82480",
   "metadata": {},
   "source": [
    " We will need sklearn, joblib, and Flask dependencies to work. But how does AWS servers project the dependencies our application has onto the web servers? The answer is a text file: requirements.txt \n",
    " This generated document specifies for AWS to load the necessary project dependencies. "
   ]
  },
  {
   "cell_type": "markdown",
   "id": "18ab36db-1ece-414e-9d94-ffbe7ecf459a",
   "metadata": {},
   "source": [
    "Within the VS code terminal, activate the virtual enivorment:\n",
    "> flask\\Scripts\\activate"
   ]
  },
  {
   "cell_type": "markdown",
   "id": "944da7ba-a5fe-4835-9d97-9a7767721fd2",
   "metadata": {},
   "source": [
    "Then initialize a file list of project requirements by running:\n",
    "  > pip freeze > requirements.txt"
   ]
  },
  {
   "cell_type": "markdown",
   "id": "dfe0e38b-9a24-4aa3-93eb-c351607ec9fd",
   "metadata": {},
   "source": [
    "The generated requirements.txt shows the neccessary dependencies and versions which have been installed in the enviorment. This txt file informs the AWS server to automatically install these dependencies."
   ]
  },
  {
   "cell_type": "markdown",
   "id": "3c426df0-2c32-48ea-9254-58160e7290b2",
   "metadata": {},
   "source": [
    "Now we update the application name to match the actual file name. So in VS code we change any app or @app tags to application or @application to match the file name application.py.\n"
   ]
  },
  {
   "cell_type": "markdown",
   "id": "ac52a7c1-5e1b-4d15-825d-0e8946cda6cf",
   "metadata": {},
   "source": [
    "Next, we create the deployment file. Create a zipped folder with the pickled files, the requirements, and the application file, we call it version_1.zip. Once in the Elastic Beanstalk enviroment interface select upload and deploy. Within the Flask application project folder, select the zipped folder and upload it. Name the version, \"Version_1\" and deploy. Once completed you will see Running version with the version name given.\n"
   ]
  },
  {
   "cell_type": "markdown",
   "id": "773cd30f-471b-45e5-911c-7943444c58c8",
   "metadata": {
    "tags": []
   },
   "source": [
    "![alt text](images/deploysuccess.png)"
   ]
  },
  {
   "cell_type": "markdown",
   "id": "2430e3d7-87d0-4e80-a66b-6be0b552274b",
   "metadata": {},
   "source": [
    "### Testing the API in Postman"
   ]
  },
  {
   "cell_type": "markdown",
   "id": "4a12c296-eb24-4f7d-9258-22737fbff545",
   "metadata": {},
   "source": [
    "Copy the web application url, and paste it into the GET/POST URL. We add the message-key as a spam messag \"hello you have won $9000 in the lottery! please call +1234574935?\". The url and response from our spam detect application:\n",
    "\n",
    "\n",
    "> http://spamdetectapi-env.eba-2pb2wgfz.us-east-2.elasticbeanstalk.com/spamdetect?message=/hello you have won $9000 in the lottery! please call +1234574935?\n",
    ">> spam\n",
    "\n",
    ">hello dear friend!\n",
    ">>ham"
   ]
  },
  {
   "cell_type": "markdown",
   "id": "23637c44-764c-4c03-91f4-5235b73df380",
   "metadata": {},
   "source": [
    "![alt text](images/webapp_post_test.png)"
   ]
  },
  {
   "cell_type": "markdown",
   "id": "594d602a-5cec-4468-8c6e-4da870a74811",
   "metadata": {},
   "source": [
    "## 7. Performing additional AWS Elastic Beanstalk actions:\n"
   ]
  },
  {
   "cell_type": "markdown",
   "id": "e92dbe90-6e4d-4b2d-8b9c-99707f93644f",
   "metadata": {},
   "source": [
    "  ####  Application versioning"
   ]
  },
  {
   "cell_type": "markdown",
   "id": "b1572b96-2430-4058-9e87-0c0c074a00b8",
   "metadata": {},
   "source": [
    "Within t|he AWS Elastic Beanstalk console we can manage application versions. From the version section we can switch versions, download source codes, and see dates each version was deployed."
   ]
  },
  {
   "cell_type": "markdown",
   "id": "cf90f529-1a3b-43d7-aa51-b7b9d124baa5",
   "metadata": {},
   "source": [
    " #### Server logs"
   ]
  },
  {
   "cell_type": "markdown",
   "id": "fa678e1b-472e-4bcd-9e2b-c1dfefad1872",
   "metadata": {},
   "source": [
    "On the left hand side we can request and download server logs."
   ]
  },
  {
   "cell_type": "markdown",
   "id": "b60c8cd0-19f0-4c5e-805b-d7cdf9735e21",
   "metadata": {},
   "source": [
    "#### Server performance monitoring"
   ]
  },
  {
   "cell_type": "markdown",
   "id": "01d540d6-3f84-4d19-b92c-78bc6b4635dd",
   "metadata": {},
   "source": [
    "The monitoring section displays metrics such as Healthy Host Count,  Target Response Time , Sum Requests, CPU Utilization, Max Network In, Max Network Out."
   ]
  },
  {
   "cell_type": "markdown",
   "id": "4652f992-fd62-4da7-bbd0-93c43e44e783",
   "metadata": {},
   "source": [
    "#### Terminating the Server"
   ]
  },
  {
   "cell_type": "markdown",
   "id": "971b9767-bbe1-4250-a842-829b5644cf37",
   "metadata": {},
   "source": [
    "After 1 year Amazon will begin to charge one. Within the environment under the actions drop-down is the terminate option. Similar to Github one must specify the name of the environment to terminate the web app."
   ]
  },
  {
   "cell_type": "markdown",
   "id": "4e9c7957-8d67-4c1c-8703-f4dccfef869b",
   "metadata": {},
   "source": [
    "## 8. Conclusion"
   ]
  },
  {
   "cell_type": "markdown",
   "id": "aab2fe9e-6cf7-48e9-8ae8-707d06969fba",
   "metadata": {
    "jp-MarkdownHeadingCollapsed": true,
    "tags": []
   },
   "source": [
    "**We have delopyed an ML spam classification model into AWS cloud servers and explored AWS Elastic Beanstalk options.**"
   ]
  },
  {
   "cell_type": "markdown",
   "id": "2c9c0831-ead2-4c66-8aaf-c5d1aaa7af04",
   "metadata": {},
   "source": [
    "## 9. Next Steps:\n"
   ]
  },
  {
   "cell_type": "markdown",
   "id": "ca54d071-30d9-4233-b071-1e759bfe5167",
   "metadata": {},
   "source": [
    "1. Improve the ML model by introducing hyper parameters to the logistic regression fit.   \n",
    "2. Build the model on different datasets.  \n",
    "3. Change the ML method of classifying messages.  \n",
    "4. Incorporate the model into a more sophisticated web application."
   ]
  }
 ],
 "metadata": {
  "kernelspec": {
   "display_name": "Python 3 (ipykernel)",
   "language": "python",
   "name": "python3"
  },
  "language_info": {
   "codemirror_mode": {
    "name": "ipython",
    "version": 3
   },
   "file_extension": ".py",
   "mimetype": "text/x-python",
   "name": "python",
   "nbconvert_exporter": "python",
   "pygments_lexer": "ipython3",
   "version": "3.9.7"
  }
 },
 "nbformat": 4,
 "nbformat_minor": 5
}
