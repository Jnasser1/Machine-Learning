{
 "cells": [
  {
   "cell_type": "markdown",
   "id": "8b82b690",
   "metadata": {},
   "source": [
    "# K Nearest Neighbors"
   ]
  },
  {
   "cell_type": "markdown",
   "id": "796d2051",
   "metadata": {},
   "source": [
    "## Loading data\n",
    "\n"
   ]
  },
  {
   "cell_type": "code",
   "execution_count": 1,
   "id": "23db123a",
   "metadata": {},
   "outputs": [
    {
     "name": "stdout",
     "output_type": "stream",
     "text": [
      "\n",
      "  There is a binary version available but the source version is later:\n",
      "     binary source needs_compilation\n",
      "ISLR    1.2    1.4             FALSE\n",
      "\n"
     ]
    },
    {
     "name": "stderr",
     "output_type": "stream",
     "text": [
      "installing the source package 'ISLR'\n",
      "\n"
     ]
    }
   ],
   "source": [
    "install.packages('ISLR',repos = 'http://cran.us.r-project.org')\n"
   ]
  },
  {
   "cell_type": "code",
   "execution_count": 2,
   "id": "9f528a6c",
   "metadata": {},
   "outputs": [],
   "source": [
    "library(ISLR)"
   ]
  },
  {
   "cell_type": "code",
   "execution_count": 3,
   "id": "c641b8dd",
   "metadata": {},
   "outputs": [
    {
     "name": "stdout",
     "output_type": "stream",
     "text": [
      "'data.frame':\t5822 obs. of  86 variables:\n",
      " $ MOSTYPE : num  33 37 37 9 40 23 39 33 33 11 ...\n",
      " $ MAANTHUI: num  1 1 1 1 1 1 2 1 1 2 ...\n",
      " $ MGEMOMV : num  3 2 2 3 4 2 3 2 2 3 ...\n",
      " $ MGEMLEEF: num  2 2 2 3 2 1 2 3 4 3 ...\n",
      " $ MOSHOOFD: num  8 8 8 3 10 5 9 8 8 3 ...\n",
      " $ MGODRK  : num  0 1 0 2 1 0 2 0 0 3 ...\n",
      " $ MGODPR  : num  5 4 4 3 4 5 2 7 1 5 ...\n",
      " $ MGODOV  : num  1 1 2 2 1 0 0 0 3 0 ...\n",
      " $ MGODGE  : num  3 4 4 4 4 5 5 2 6 2 ...\n",
      " $ MRELGE  : num  7 6 3 5 7 0 7 7 6 7 ...\n",
      " $ MRELSA  : num  0 2 2 2 1 6 2 2 0 0 ...\n",
      " $ MRELOV  : num  2 2 4 2 2 3 0 0 3 2 ...\n",
      " $ MFALLEEN: num  1 0 4 2 2 3 0 0 3 2 ...\n",
      " $ MFGEKIND: num  2 4 4 3 4 5 3 5 3 2 ...\n",
      " $ MFWEKIND: num  6 5 2 4 4 2 6 4 3 6 ...\n",
      " $ MOPLHOOG: num  1 0 0 3 5 0 0 0 0 0 ...\n",
      " $ MOPLMIDD: num  2 5 5 4 4 5 4 3 1 4 ...\n",
      " $ MOPLLAAG: num  7 4 4 2 0 4 5 6 8 5 ...\n",
      " $ MBERHOOG: num  1 0 0 4 0 2 0 2 1 2 ...\n",
      " $ MBERZELF: num  0 0 0 0 5 0 0 0 1 0 ...\n",
      " $ MBERBOER: num  1 0 0 0 4 0 0 0 0 0 ...\n",
      " $ MBERMIDD: num  2 5 7 3 0 4 4 2 1 3 ...\n",
      " $ MBERARBG: num  5 0 0 1 0 2 1 5 8 3 ...\n",
      " $ MBERARBO: num  2 4 2 2 0 2 5 2 1 3 ...\n",
      " $ MSKA    : num  1 0 0 3 9 2 0 2 1 1 ...\n",
      " $ MSKB1   : num  1 2 5 2 0 2 1 1 1 2 ...\n",
      " $ MSKB2   : num  2 3 0 1 0 2 4 2 0 1 ...\n",
      " $ MSKC    : num  6 5 4 4 0 4 5 5 8 4 ...\n",
      " $ MSKD    : num  1 0 0 0 0 2 0 2 1 2 ...\n",
      " $ MHHUUR  : num  1 2 7 5 4 9 6 0 9 0 ...\n",
      " $ MHKOOP  : num  8 7 2 4 5 0 3 9 0 9 ...\n",
      " $ MAUT1   : num  8 7 7 9 6 5 8 4 5 6 ...\n",
      " $ MAUT2   : num  0 1 0 0 2 3 0 4 2 1 ...\n",
      " $ MAUT0   : num  1 2 2 0 1 3 1 2 3 2 ...\n",
      " $ MZFONDS : num  8 6 9 7 5 9 9 6 7 6 ...\n",
      " $ MZPART  : num  1 3 0 2 4 0 0 3 2 3 ...\n",
      " $ MINKM30 : num  0 2 4 1 0 5 4 2 7 2 ...\n",
      " $ MINK3045: num  4 0 5 5 0 2 3 5 2 3 ...\n",
      " $ MINK4575: num  5 5 0 3 9 3 3 3 1 3 ...\n",
      " $ MINK7512: num  0 2 0 0 0 0 0 0 0 1 ...\n",
      " $ MINK123M: num  0 0 0 0 0 0 0 0 0 0 ...\n",
      " $ MINKGEM : num  4 5 3 4 6 3 3 3 2 4 ...\n",
      " $ MKOOPKLA: num  3 4 4 4 3 3 5 3 3 7 ...\n",
      " $ PWAPART : num  0 2 2 0 0 0 0 0 0 2 ...\n",
      " $ PWABEDR : num  0 0 0 0 0 0 0 0 0 0 ...\n",
      " $ PWALAND : num  0 0 0 0 0 0 0 0 0 0 ...\n",
      " $ PPERSAUT: num  6 0 6 6 0 6 6 0 5 0 ...\n",
      " $ PBESAUT : num  0 0 0 0 0 0 0 0 0 0 ...\n",
      " $ PMOTSCO : num  0 0 0 0 0 0 0 0 0 0 ...\n",
      " $ PVRAAUT : num  0 0 0 0 0 0 0 0 0 0 ...\n",
      " $ PAANHANG: num  0 0 0 0 0 0 0 0 0 0 ...\n",
      " $ PTRACTOR: num  0 0 0 0 0 0 0 0 0 0 ...\n",
      " $ PWERKT  : num  0 0 0 0 0 0 0 0 0 0 ...\n",
      " $ PBROM   : num  0 0 0 0 0 0 0 3 0 0 ...\n",
      " $ PLEVEN  : num  0 0 0 0 0 0 0 0 0 0 ...\n",
      " $ PPERSONG: num  0 0 0 0 0 0 0 0 0 0 ...\n",
      " $ PGEZONG : num  0 0 0 0 0 0 0 0 0 0 ...\n",
      " $ PWAOREG : num  0 0 0 0 0 0 0 0 0 0 ...\n",
      " $ PBRAND  : num  5 2 2 2 6 0 0 0 0 3 ...\n",
      " $ PZEILPL : num  0 0 0 0 0 0 0 0 0 0 ...\n",
      " $ PPLEZIER: num  0 0 0 0 0 0 0 0 0 0 ...\n",
      " $ PFIETS  : num  0 0 0 0 0 0 0 0 0 0 ...\n",
      " $ PINBOED : num  0 0 0 0 0 0 0 0 0 0 ...\n",
      " $ PBYSTAND: num  0 0 0 0 0 0 0 0 0 0 ...\n",
      " $ AWAPART : num  0 2 1 0 0 0 0 0 0 1 ...\n",
      " $ AWABEDR : num  0 0 0 0 0 0 0 0 0 0 ...\n",
      " $ AWALAND : num  0 0 0 0 0 0 0 0 0 0 ...\n",
      " $ APERSAUT: num  1 0 1 1 0 1 1 0 1 0 ...\n",
      " $ ABESAUT : num  0 0 0 0 0 0 0 0 0 0 ...\n",
      " $ AMOTSCO : num  0 0 0 0 0 0 0 0 0 0 ...\n",
      " $ AVRAAUT : num  0 0 0 0 0 0 0 0 0 0 ...\n",
      " $ AAANHANG: num  0 0 0 0 0 0 0 0 0 0 ...\n",
      " $ ATRACTOR: num  0 0 0 0 0 0 0 0 0 0 ...\n",
      " $ AWERKT  : num  0 0 0 0 0 0 0 0 0 0 ...\n",
      " $ ABROM   : num  0 0 0 0 0 0 0 1 0 0 ...\n",
      " $ ALEVEN  : num  0 0 0 0 0 0 0 0 0 0 ...\n",
      " $ APERSONG: num  0 0 0 0 0 0 0 0 0 0 ...\n",
      " $ AGEZONG : num  0 0 0 0 0 0 0 0 0 0 ...\n",
      " $ AWAOREG : num  0 0 0 0 0 0 0 0 0 0 ...\n",
      " $ ABRAND  : num  1 1 1 1 1 0 0 0 0 1 ...\n",
      " $ AZEILPL : num  0 0 0 0 0 0 0 0 0 0 ...\n",
      " $ APLEZIER: num  0 0 0 0 0 0 0 0 0 0 ...\n",
      " $ AFIETS  : num  0 0 0 0 0 0 0 0 0 0 ...\n",
      " $ AINBOED : num  0 0 0 0 0 0 0 0 0 0 ...\n",
      " $ ABYSTAND: num  0 0 0 0 0 0 0 0 0 0 ...\n",
      " $ Purchase: Factor w/ 2 levels \"No\",\"Yes\": 1 1 1 1 1 1 1 1 1 1 ...\n"
     ]
    }
   ],
   "source": [
    "str(Caravan)"
   ]
  },
  {
   "cell_type": "code",
   "execution_count": 4,
   "id": "8d07b206",
   "metadata": {},
   "outputs": [
    {
     "data": {
      "text/html": [
       "<dl class=dl-horizontal>\n",
       "\t<dt>No</dt>\n",
       "\t\t<dd>5474</dd>\n",
       "\t<dt>Yes</dt>\n",
       "\t\t<dd>348</dd>\n",
       "</dl>\n"
      ],
      "text/latex": [
       "\\begin{description*}\n",
       "\\item[No] 5474\n",
       "\\item[Yes] 348\n",
       "\\end{description*}\n"
      ],
      "text/markdown": [
       "No\n",
       ":   5474Yes\n",
       ":   348\n",
       "\n"
      ],
      "text/plain": [
       "  No  Yes \n",
       "5474  348 "
      ]
     },
     "metadata": {},
     "output_type": "display_data"
    }
   ],
   "source": [
    "summary(Caravan$Purchase)"
   ]
  },
  {
   "cell_type": "markdown",
   "id": "a1da1645",
   "metadata": {},
   "source": [
    "\n",
    "# Cleaning Data"
   ]
  },
  {
   "cell_type": "code",
   "execution_count": 5,
   "id": "68f90d57",
   "metadata": {},
   "outputs": [],
   "source": [
    "# We drop any NA values by dropping the rows"
   ]
  },
  {
   "cell_type": "code",
   "execution_count": 6,
   "id": "5469784d",
   "metadata": {},
   "outputs": [
    {
     "data": {
      "text/html": [
       "FALSE"
      ],
      "text/latex": [
       "FALSE"
      ],
      "text/markdown": [
       "FALSE"
      ],
      "text/plain": [
       "[1] FALSE"
      ]
     },
     "metadata": {},
     "output_type": "display_data"
    }
   ],
   "source": [
    "any(is.na(Caravan))"
   ]
  },
  {
   "cell_type": "markdown",
   "id": "5d1ab93d",
   "metadata": {},
   "source": [
    "## Standardizing Variables\n"
   ]
  },
  {
   "cell_type": "markdown",
   "id": "6a3fc964",
   "metadata": {},
   "source": [
    "Because KNN classifcation predicts classes using distance metrics between observations,the scale of the observations matters greatly. A large scale variable has a much larger effect on distances. It is easier to understand for this method why we center and scale\n"
   ]
  },
  {
   "cell_type": "code",
   "execution_count": 7,
   "id": "bf263ee2",
   "metadata": {},
   "outputs": [
    {
     "data": {
      "text/html": [
       "165.037847395189"
      ],
      "text/latex": [
       "165.037847395189"
      ],
      "text/markdown": [
       "165.037847395189"
      ],
      "text/plain": [
       "[1] 165.0378"
      ]
     },
     "metadata": {},
     "output_type": "display_data"
    }
   ],
   "source": [
    "var(Caravan[,1])"
   ]
  },
  {
   "cell_type": "code",
   "execution_count": 8,
   "id": "f4766f29",
   "metadata": {},
   "outputs": [
    {
     "data": {
      "text/html": [
       "0.164707781931954"
      ],
      "text/latex": [
       "0.164707781931954"
      ],
      "text/markdown": [
       "0.164707781931954"
      ],
      "text/plain": [
       "[1] 0.1647078"
      ]
     },
     "metadata": {},
     "output_type": "display_data"
    }
   ],
   "source": [
    "var(Caravan[,2])"
   ]
  },
  {
   "cell_type": "code",
   "execution_count": 9,
   "id": "a0891d6d",
   "metadata": {},
   "outputs": [],
   "source": [
    "# Note the large scale difference in variances above.\n",
    "# We standarize all input variabless except the response (Purchase)\n",
    "# and we seperate input and reponse vectors\n",
    "\n",
    "purchase <- Caravan[,86]"
   ]
  },
  {
   "cell_type": "code",
   "execution_count": 10,
   "id": "12164fa8",
   "metadata": {},
   "outputs": [],
   "source": [
    "# Standarize the dataset using scale()\n",
    "# All columns except the 86th (purchase)\n",
    "standardized.Caravan <- scale(Caravan[,-86])"
   ]
  },
  {
   "cell_type": "code",
   "execution_count": 11,
   "id": "744d95d6",
   "metadata": {},
   "outputs": [
    {
     "data": {
      "text/html": [
       "1"
      ],
      "text/latex": [
       "1"
      ],
      "text/markdown": [
       "1"
      ],
      "text/plain": [
       "[1] 1"
      ]
     },
     "metadata": {},
     "output_type": "display_data"
    }
   ],
   "source": [
    "var(standardized.Caravan[,1])"
   ]
  },
  {
   "cell_type": "code",
   "execution_count": 12,
   "id": "e83c3948",
   "metadata": {},
   "outputs": [],
   "source": [
    "# So all the independent variables are centered and have unit standard deviation.\n",
    "# Now we split our dataset in train and test sets\n"
   ]
  },
  {
   "cell_type": "code",
   "execution_count": 13,
   "id": "cf7df6ab",
   "metadata": {},
   "outputs": [],
   "source": [
    "# Say first 1000 rows for the test set\n",
    "test.index <- 1:1000\n",
    "test.data <- standardized.Caravan[test.index,]\n",
    "test.purchase <- purchase[test.index]"
   ]
  },
  {
   "cell_type": "code",
   "execution_count": 14,
   "id": "87ababe0",
   "metadata": {},
   "outputs": [
    {
     "data": {
      "text/html": [
       "<ol class=list-inline>\n",
       "\t<li>1000</li>\n",
       "\t<li>85</li>\n",
       "</ol>\n"
      ],
      "text/latex": [
       "\\begin{enumerate*}\n",
       "\\item 1000\n",
       "\\item 85\n",
       "\\end{enumerate*}\n"
      ],
      "text/markdown": [
       "1. 1000\n",
       "2. 85\n",
       "\n",
       "\n"
      ],
      "text/plain": [
       "[1] 1000   85"
      ]
     },
     "metadata": {},
     "output_type": "display_data"
    }
   ],
   "source": [
    "dim(test.data) "
   ]
  },
  {
   "cell_type": "code",
   "execution_count": 15,
   "id": "4a3f27d8",
   "metadata": {},
   "outputs": [],
   "source": [
    "# Rest of data for training\n",
    "train.data <- standardized.Caravan[-test.index,]\n",
    "train.purchase <- purchase[-test.index]"
   ]
  },
  {
   "cell_type": "code",
   "execution_count": 16,
   "id": "8f27c63d",
   "metadata": {},
   "outputs": [
    {
     "data": {
      "text/html": [
       "<ol class=list-inline>\n",
       "\t<li>4822</li>\n",
       "\t<li>85</li>\n",
       "</ol>\n"
      ],
      "text/latex": [
       "\\begin{enumerate*}\n",
       "\\item 4822\n",
       "\\item 85\n",
       "\\end{enumerate*}\n"
      ],
      "text/markdown": [
       "1. 4822\n",
       "2. 85\n",
       "\n",
       "\n"
      ],
      "text/plain": [
       "[1] 4822   85"
      ]
     },
     "metadata": {},
     "output_type": "display_data"
    }
   ],
   "source": [
    "dim(train.data)\n",
    "# Original dataset had 5822 rows (observations), \n",
    "# we've taken the first 1000 for test, so 4822 rows left\n",
    "\n"
   ]
  },
  {
   "cell_type": "markdown",
   "id": "55b388ad",
   "metadata": {},
   "source": [
    "## KNN"
   ]
  },
  {
   "cell_type": "markdown",
   "id": "06277962",
   "metadata": {},
   "source": [
    "Our goal is to develop a model to predict whether an individual will purchase an insurance plan or not. The knn() function arguments we focus on are the training data frame, testing data frame, response column (purchase), and k, how many neighbors."
   ]
  },
  {
   "cell_type": "code",
   "execution_count": 17,
   "id": "5959cb80",
   "metadata": {},
   "outputs": [
    {
     "name": "stderr",
     "output_type": "stream",
     "text": [
      "Warning message:\n",
      "\"package 'class' was built under R version 3.6.3\""
     ]
    }
   ],
   "source": [
    "library(class)"
   ]
  },
  {
   "cell_type": "code",
   "execution_count": 18,
   "id": "27fd922b",
   "metadata": {},
   "outputs": [
    {
     "data": {
      "text/html": [
       "<ol class=list-inline>\n",
       "\t<li>No</li>\n",
       "\t<li>No</li>\n",
       "\t<li>No</li>\n",
       "\t<li>No</li>\n",
       "\t<li>No</li>\n",
       "\t<li>No</li>\n",
       "</ol>\n",
       "\n",
       "<details>\n",
       "\t<summary style=display:list-item;cursor:pointer>\n",
       "\t\t<strong>Levels</strong>:\n",
       "\t</summary>\n",
       "\t<ol class=list-inline>\n",
       "\t\t<li>'No'</li>\n",
       "\t\t<li>'Yes'</li>\n",
       "\t</ol>\n",
       "</details>"
      ],
      "text/latex": [
       "\\begin{enumerate*}\n",
       "\\item No\n",
       "\\item No\n",
       "\\item No\n",
       "\\item No\n",
       "\\item No\n",
       "\\item No\n",
       "\\end{enumerate*}\n",
       "\n",
       "\\emph{Levels}: \\begin{enumerate*}\n",
       "\\item 'No'\n",
       "\\item 'Yes'\n",
       "\\end{enumerate*}\n"
      ],
      "text/markdown": [
       "1. No\n",
       "2. No\n",
       "3. No\n",
       "4. No\n",
       "5. No\n",
       "6. No\n",
       "\n",
       "\n",
       "\n",
       "**Levels**: 1. 'No'\n",
       "2. 'Yes'\n",
       "\n",
       "\n"
      ],
      "text/plain": [
       "[1] No No No No No No\n",
       "Levels: No Yes"
      ]
     },
     "metadata": {},
     "output_type": "display_data"
    }
   ],
   "source": [
    "set.seed(101)\n",
    "predicted.purchase <- knn(train.data, test.data, train.purchase, k=1)\n",
    "head(predicted.purchase)"
   ]
  },
  {
   "cell_type": "markdown",
   "id": "993a13bf",
   "metadata": {},
   "source": [
    "Evaluate the model we trained to see our misclassification error rate"
   ]
  },
  {
   "cell_type": "code",
   "execution_count": 19,
   "id": "ed892015",
   "metadata": {},
   "outputs": [
    {
     "data": {
      "text/html": [
       "0.116"
      ],
      "text/latex": [
       "0.116"
      ],
      "text/markdown": [
       "0.116"
      ],
      "text/plain": [
       "[1] 0.116"
      ]
     },
     "metadata": {},
     "output_type": "display_data"
    }
   ],
   "source": [
    "mean(test.purchase != predicted.purchase)"
   ]
  },
  {
   "cell_type": "markdown",
   "id": "6701a229",
   "metadata": {},
   "source": [
    "## Choosing The Number of Neighbors (K)\n"
   ]
  },
  {
   "cell_type": "code",
   "execution_count": 20,
   "id": "ca08aa6a",
   "metadata": {},
   "outputs": [
    {
     "data": {
      "text/html": [
       "0.073"
      ],
      "text/latex": [
       "0.073"
      ],
      "text/markdown": [
       "0.073"
      ],
      "text/plain": [
       "[1] 0.073"
      ]
     },
     "metadata": {},
     "output_type": "display_data"
    }
   ],
   "source": [
    "predicted.purchase <- knn(train.data, test.data, train.purchase, k=3)\n",
    "mean(test.purchase != predicted.purchase)"
   ]
  },
  {
   "cell_type": "markdown",
   "id": "aabb869b",
   "metadata": {},
   "source": [
    "With 2 extra neighbors our error rate dropped by 37%. Lets use K=5."
   ]
  },
  {
   "cell_type": "code",
   "execution_count": 21,
   "id": "a4aa3731",
   "metadata": {},
   "outputs": [
    {
     "data": {
      "text/html": [
       "0.066"
      ],
      "text/latex": [
       "0.066"
      ],
      "text/markdown": [
       "0.066"
      ],
      "text/plain": [
       "[1] 0.066"
      ]
     },
     "metadata": {},
     "output_type": "display_data"
    }
   ],
   "source": [
    "predicted.purchase <- knn(train.data, test.data, train.purchase, k=5)\n",
    "mean(test.purchase != predicted.purchase)"
   ]
  },
  {
   "cell_type": "markdown",
   "id": "e77c5808",
   "metadata": {},
   "source": [
    "Using for loop to find a good K value:"
   ]
  },
  {
   "cell_type": "code",
   "execution_count": 22,
   "id": "09196f17",
   "metadata": {},
   "outputs": [],
   "source": [
    "predicted.purchase = NULL\n",
    "error.rate = NULL\n",
    "\n",
    "for (i in 1:20) {\n",
    "    set.seed(101)\n",
    "    predicted.purchase = knn(train.data,test.data,train.purchase,k=i)\n",
    "    error.rate[i] = mean(test.purchase != predicted.purchase)\n",
    "}\n"
   ]
  },
  {
   "cell_type": "code",
   "execution_count": 23,
   "id": "b7bff0e9",
   "metadata": {},
   "outputs": [
    {
     "name": "stdout",
     "output_type": "stream",
     "text": [
      " [1] 0.116 0.107 0.074 0.070 0.066 0.064 0.062 0.061 0.058 0.058 0.059 0.058\n",
      "[13] 0.059 0.059 0.059 0.059 0.059 0.059 0.059 0.059\n"
     ]
    }
   ],
   "source": [
    "print(error.rate)"
   ]
  },
  {
   "cell_type": "markdown",
   "id": "9a98a62a",
   "metadata": {},
   "source": [
    "#### After a certain number of neighbors (K=9) our misclassification rate does not improve anymore."
   ]
  },
  {
   "cell_type": "markdown",
   "id": "ad40342f",
   "metadata": {},
   "source": [
    "### Elbow Method"
   ]
  },
  {
   "cell_type": "code",
   "execution_count": 24,
   "id": "888a173e",
   "metadata": {},
   "outputs": [],
   "source": [
    "K.value <- 1:20"
   ]
  },
  {
   "cell_type": "code",
   "execution_count": 25,
   "id": "32896c22",
   "metadata": {},
   "outputs": [],
   "source": [
    "error.df <- data.frame(error.rate,K.value)"
   ]
  },
  {
   "cell_type": "code",
   "execution_count": 26,
   "id": "7e4f682f",
   "metadata": {},
   "outputs": [
    {
     "data": {
      "text/html": [
       "<table>\n",
       "<thead><tr><th scope=col>error.rate</th><th scope=col>K.value</th></tr></thead>\n",
       "<tbody>\n",
       "\t<tr><td>0.116</td><td> 1   </td></tr>\n",
       "\t<tr><td>0.107</td><td> 2   </td></tr>\n",
       "\t<tr><td>0.074</td><td> 3   </td></tr>\n",
       "\t<tr><td>0.070</td><td> 4   </td></tr>\n",
       "\t<tr><td>0.066</td><td> 5   </td></tr>\n",
       "\t<tr><td>0.064</td><td> 6   </td></tr>\n",
       "\t<tr><td>0.062</td><td> 7   </td></tr>\n",
       "\t<tr><td>0.061</td><td> 8   </td></tr>\n",
       "\t<tr><td>0.058</td><td> 9   </td></tr>\n",
       "\t<tr><td>0.058</td><td>10   </td></tr>\n",
       "\t<tr><td>0.059</td><td>11   </td></tr>\n",
       "\t<tr><td>0.058</td><td>12   </td></tr>\n",
       "\t<tr><td>0.059</td><td>13   </td></tr>\n",
       "\t<tr><td>0.059</td><td>14   </td></tr>\n",
       "\t<tr><td>0.059</td><td>15   </td></tr>\n",
       "\t<tr><td>0.059</td><td>16   </td></tr>\n",
       "\t<tr><td>0.059</td><td>17   </td></tr>\n",
       "\t<tr><td>0.059</td><td>18   </td></tr>\n",
       "\t<tr><td>0.059</td><td>19   </td></tr>\n",
       "\t<tr><td>0.059</td><td>20   </td></tr>\n",
       "</tbody>\n",
       "</table>\n"
      ],
      "text/latex": [
       "\\begin{tabular}{r|ll}\n",
       " error.rate & K.value\\\\\n",
       "\\hline\n",
       "\t 0.116 &  1   \\\\\n",
       "\t 0.107 &  2   \\\\\n",
       "\t 0.074 &  3   \\\\\n",
       "\t 0.070 &  4   \\\\\n",
       "\t 0.066 &  5   \\\\\n",
       "\t 0.064 &  6   \\\\\n",
       "\t 0.062 &  7   \\\\\n",
       "\t 0.061 &  8   \\\\\n",
       "\t 0.058 &  9   \\\\\n",
       "\t 0.058 & 10   \\\\\n",
       "\t 0.059 & 11   \\\\\n",
       "\t 0.058 & 12   \\\\\n",
       "\t 0.059 & 13   \\\\\n",
       "\t 0.059 & 14   \\\\\n",
       "\t 0.059 & 15   \\\\\n",
       "\t 0.059 & 16   \\\\\n",
       "\t 0.059 & 17   \\\\\n",
       "\t 0.059 & 18   \\\\\n",
       "\t 0.059 & 19   \\\\\n",
       "\t 0.059 & 20   \\\\\n",
       "\\end{tabular}\n"
      ],
      "text/markdown": [
       "\n",
       "| error.rate | K.value |\n",
       "|---|---|\n",
       "| 0.116 |  1    |\n",
       "| 0.107 |  2    |\n",
       "| 0.074 |  3    |\n",
       "| 0.070 |  4    |\n",
       "| 0.066 |  5    |\n",
       "| 0.064 |  6    |\n",
       "| 0.062 |  7    |\n",
       "| 0.061 |  8    |\n",
       "| 0.058 |  9    |\n",
       "| 0.058 | 10    |\n",
       "| 0.059 | 11    |\n",
       "| 0.058 | 12    |\n",
       "| 0.059 | 13    |\n",
       "| 0.059 | 14    |\n",
       "| 0.059 | 15    |\n",
       "| 0.059 | 16    |\n",
       "| 0.059 | 17    |\n",
       "| 0.059 | 18    |\n",
       "| 0.059 | 19    |\n",
       "| 0.059 | 20    |\n",
       "\n"
      ],
      "text/plain": [
       "   error.rate K.value\n",
       "1  0.116       1     \n",
       "2  0.107       2     \n",
       "3  0.074       3     \n",
       "4  0.070       4     \n",
       "5  0.066       5     \n",
       "6  0.064       6     \n",
       "7  0.062       7     \n",
       "8  0.061       8     \n",
       "9  0.058       9     \n",
       "10 0.058      10     \n",
       "11 0.059      11     \n",
       "12 0.058      12     \n",
       "13 0.059      13     \n",
       "14 0.059      14     \n",
       "15 0.059      15     \n",
       "16 0.059      16     \n",
       "17 0.059      17     \n",
       "18 0.059      18     \n",
       "19 0.059      19     \n",
       "20 0.059      20     "
      ]
     },
     "metadata": {},
     "output_type": "display_data"
    }
   ],
   "source": [
    "error.df"
   ]
  },
  {
   "cell_type": "code",
   "execution_count": null,
   "id": "45ff0bea",
   "metadata": {
    "scrolled": true
   },
   "outputs": [],
   "source": [
    "library(ggplot2)"
   ]
  },
  {
   "cell_type": "code",
   "execution_count": null,
   "id": "fe193d2e",
   "metadata": {},
   "outputs": [],
   "source": [
    "ggplot(error.df, aes(x=K.value, y=error.rate)) +geom_point() \n",
    "+ geom_line(lty=\"dotted\", color=\"blue\")"
   ]
  },
  {
   "cell_type": "code",
   "execution_count": null,
   "id": "99e15772",
   "metadata": {},
   "outputs": [],
   "source": []
  },
  {
   "cell_type": "code",
   "execution_count": null,
   "id": "56215fba",
   "metadata": {},
   "outputs": [],
   "source": []
  },
  {
   "cell_type": "code",
   "execution_count": null,
   "id": "023a4091",
   "metadata": {},
   "outputs": [],
   "source": []
  },
  {
   "cell_type": "code",
   "execution_count": null,
   "id": "5c558ad8",
   "metadata": {},
   "outputs": [],
   "source": []
  }
 ],
 "metadata": {
  "kernelspec": {
   "display_name": "R",
   "language": "R",
   "name": "ir"
  },
  "language_info": {
   "codemirror_mode": "r",
   "file_extension": ".r",
   "mimetype": "text/x-r-source",
   "name": "R",
   "pygments_lexer": "r",
   "version": "3.6.1"
  }
 },
 "nbformat": 4,
 "nbformat_minor": 5
}
